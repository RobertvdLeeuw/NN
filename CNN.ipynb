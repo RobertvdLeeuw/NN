{
 "cells": [
  {
   "cell_type": "markdown",
   "id": "fdd44f5d-f73a-44f9-9611-952e7d7f2fb8",
   "metadata": {},
   "source": [
    "'ll help write out the mathematical notation for convolutions in CNNs and their backpropagation. Let me use similar notation style to what you provided for clear comparison.\n",
    "For a convolutional layer, the forward pass can be written as:\n",
    "$$z_{i,k} = \\sum_{c=1}^{C_{i-1}} (A_{i-1,c} * W_{i,k}) + b_{i,k}$$\n",
    "$$A_{i,k} = f_i(z_{i,k})$$\n",
    "Where:\n",
    "\n",
    "$k$ indexes the output channel/feature map\n",
    "$c$ indexes the input channel\n",
    "$*$ denotes the convolution operation\n",
    "$C_{i-1}$ is the number of channels in layer $i-1$\n",
    "$W_{i,k}$ is the $k$-th filter/kernel in layer $i$\n",
    "$b_{i,k}$ is the bias for the $k$-th feature map\n",
    "\n",
    "For backpropagation through a convolutional layer:\n",
    "$$\\partial z_{i,k} = \\begin{cases}\n",
    "A_L - Y & i = L \\\n",
    "\\sum_{k'} (\\partial z_{i+1,k'} * \\text{rot180}(W_{i+1,k'})) \\odot f'i(z{i,k}) & i < L\n",
    "\\end{cases}$$\n",
    "$$\\partial W_{i,k} = \\sum_{n=1}^N \\frac{A_{i-1} * \\partial z_{i,k}}{N}$$\n",
    "$$\\partial b_{i,k} = \\sum_{h,w} \\frac{\\partial z_{i,k}(h,w)}{H \\times W}$$\n",
    "Where:\n",
    "\n",
    "$\\text{rot180}(W)$ is the 180-degree rotation of the filter $W$\n",
    "$\\odot$ represents element-wise multiplication\n",
    "$N$ is the batch size\n",
    "$H,W$ are the height and width of the feature map\n",
    "The convolution in $\\partial W_{i,k}$ is actually a cross-correlation\n",
    "The summation over $k'$ in $\\partial z_{i,k}$ is over all filters in layer $i+1$ that use the $k$-th feature map as input\n",
    "\n",
    "Note that these formulas assume \"valid\" convolutions. For \"same\" padding, additional terms would be needed to account for the padding operations."
   ]
  },
  {
   "cell_type": "code",
   "execution_count": 4,
   "id": "9c885849-e532-4bd2-8a3e-2d5b50016b8e",
   "metadata": {},
   "outputs": [
    {
     "ename": "ModuleNotFoundError",
     "evalue": "No module named 'layers'",
     "output_type": "error",
     "traceback": [
      "\u001b[0;31m---------------------------------------------------------------------------\u001b[0m",
      "\u001b[0;31mModuleNotFoundError\u001b[0m                       Traceback (most recent call last)",
      "Cell \u001b[0;32mIn[4], line 1\u001b[0m\n\u001b[0;32m----> 1\u001b[0m \u001b[38;5;28;01mfrom\u001b[39;00m\u001b[38;5;250m \u001b[39m\u001b[38;5;21;01mlayers\u001b[39;00m\u001b[38;5;250m \u001b[39m\u001b[38;5;28;01mimport\u001b[39;00m Layer, DenseLayer\n\u001b[1;32m      2\u001b[0m \u001b[38;5;28;01mfrom\u001b[39;00m\u001b[38;5;250m \u001b[39m\u001b[38;5;21;01mnn\u001b[39;00m\u001b[38;5;250m \u001b[39m\u001b[38;5;28;01mimport\u001b[39;00m NN\n\u001b[1;32m      3\u001b[0m \u001b[38;5;28;01mfrom\u001b[39;00m\u001b[38;5;250m \u001b[39m\u001b[38;5;21;01mtensors\u001b[39;00m\u001b[38;5;250m \u001b[39m\u001b[38;5;28;01mimport\u001b[39;00m Vector, Matrix\n",
      "\u001b[0;31mModuleNotFoundError\u001b[0m: No module named 'layers'"
     ]
    }
   ],
   "source": [
    "from layers import Layer, DenseLayer\n",
    "from nn import NN\n",
    "from tensors import Vector, Matrix\n",
    "\n",
    "import operator\n",
    "\n",
    "\n",
    "\n",
    "        \n",
    "# SOMETHING EFFECTIVE RECEPTIVE FIELD CALC\n",
    "    # Backprop to input + heatmap\n"
   ]
  }
 ],
 "metadata": {
  "kernelspec": {
   "display_name": "Python 3 (ipykernel)",
   "language": "python",
   "name": "python3"
  },
  "language_info": {
   "codemirror_mode": {
    "name": "ipython",
    "version": 3
   },
   "file_extension": ".py",
   "mimetype": "text/x-python",
   "name": "python",
   "nbconvert_exporter": "python",
   "pygments_lexer": "ipython3",
   "version": "3.12.7"
  }
 },
 "nbformat": 4,
 "nbformat_minor": 5
}
